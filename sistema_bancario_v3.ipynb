{
  "nbformat": 4,
  "nbformat_minor": 0,
  "metadata": {
    "colab": {
      "provenance": [],
      "authorship_tag": "ABX9TyONuYwm6BLjIfHpqFmG6MDA",
      "include_colab_link": true
    },
    "kernelspec": {
      "name": "python3",
      "display_name": "Python 3"
    },
    "language_info": {
      "name": "python"
    }
  },
  "cells": [
    {
      "cell_type": "markdown",
      "metadata": {
        "id": "view-in-github",
        "colab_type": "text"
      },
      "source": [
        "<a href=\"https://colab.research.google.com/github/tdlima/sistema_bancario-DIO/blob/main/sistema_bancario_v3.ipynb\" target=\"_parent\"><img src=\"https://colab.research.google.com/assets/colab-badge.svg\" alt=\"Open In Colab\"/></a>"
      ]
    },
    {
      "cell_type": "code",
      "execution_count": 2,
      "metadata": {
        "id": "V3uTijPVX9B9"
      },
      "outputs": [],
      "source": [
        "from abc import ABC, abstractclassmethod, abstractproperty\n",
        "from datetime import datetime"
      ]
    },
    {
      "cell_type": "code",
      "source": [
        "class Cliente:\n",
        "  def __init__(self,endr):\n",
        "    self.endr = endr\n",
        "    self.contas = []\n",
        "\n",
        "  def realizar_transacao(self, conta, transacao):\n",
        "    transacao.registrar(conta)\n",
        "\n",
        "  def adcionar_conta(self, conta):\n",
        "    self.contas.append(conta)"
      ],
      "metadata": {
        "id": "1ClE3NqNY4LV"
      },
      "execution_count": 3,
      "outputs": []
    },
    {
      "cell_type": "code",
      "source": [
        "class PessoaFisica(Cliente):\n",
        "  def __init__(self, nome, dt_nascimento, cpf, endr):\n",
        "    super().__init__(endr)\n",
        "    self.nome = nome\n",
        "    self.dt_nascimento = dt_nascimento\n",
        "    self.cpf = cpf"
      ],
      "metadata": {
        "id": "F5Qh2YYebJ6k"
      },
      "execution_count": 4,
      "outputs": []
    },
    {
      "cell_type": "code",
      "source": [
        "class Conta:\n",
        "  def __init__(self, numero, cliente):\n",
        "    self._saldo = 0\n",
        "    self._numero = numero\n",
        "    self._agencia = \"0001\"\n",
        "    self._cliente = cliente\n",
        "    self._historico = Historico()\n",
        "\n",
        "  @classmethod\n",
        "  def nova_conta(cls, cliente, numero):\n",
        "    return cls(numero, cliente)\n",
        "\n",
        "  @property\n",
        "  def saldo(self):\n",
        "    return self.saldo\n",
        "\n",
        "  @property\n",
        "  def numero(self):\n",
        "    return self.numero\n",
        "\n",
        "  @property\n",
        "  def agencia(self):\n",
        "    return self.agencia\n",
        "\n",
        "  @property\n",
        "  def cliente(self):\n",
        "    return self.cliente\n",
        "\n",
        "  @property\n",
        "  def historico(self):\n",
        "    return self.historico\n",
        "\n",
        "  def sacar(self, valor):\n",
        "    saldo = self.saldo\n",
        "    saldo_excedido = valor > saldo\n",
        "\n",
        "    if saldo_excedido:\n",
        "      print(\"\\nFalha na Operação! Saldo Insuficiente.\")\n",
        "\n",
        "    elif valor > 0:\n",
        "      self.saldo -= valor\n",
        "      print(\"\\nSaque Realizado com Sucesso!\")\n",
        "      return True\n",
        "\n",
        "    else:\n",
        "      print(\"\\nFalha na Operação! Valor Informado é Invalido.\")\n",
        "      return False\n",
        "\n",
        "  def depositar(self, valor):\n",
        "    if valor > 0:\n",
        "      self.saldo += valor\n",
        "      print(\"\\nDeposito Realizado com Sucesso!\")\n",
        "\n",
        "    else:\n",
        "      print(\"\\nFalha na Operação! Valor Informado é Invalido.\")\n",
        "      return False\n",
        "\n",
        "    return True"
      ],
      "metadata": {
        "id": "uc80Sc0ccXXI"
      },
      "execution_count": 5,
      "outputs": []
    },
    {
      "cell_type": "code",
      "source": [
        "class ContaCorrente(Conta):\n",
        "  def __init__(self, numero, cliente, limite=500, limite_saques=3):\n",
        "    super().__init__(numero, cliente)\n",
        "    self.limite = limite\n",
        "    self.limite_saques = limite_saques\n",
        "\n",
        "  def sacar(self, valor):\n",
        "    numero_saques = len(\n",
        "        [transacao for transacao in self.historico.\n",
        "         transacoes if transacao[\"tipo\"] == Saque.__name__]\n",
        "    )\n",
        "\n",
        "    limite_excedido = valor < self.limite\n",
        "    saques_excedidos = numero_saques >= self.limite_saques\n",
        "\n",
        "    if limite_excedido:\n",
        "      print(\"\\nFalha na Operação! O Valor a ser Sacado Excede o Limite.\")\n",
        "\n",
        "    elif saques_excedidos:\n",
        "      print(\"\\nFalha na Operação! Limite de Saques Diarios Excedidos.\")\n",
        "\n",
        "    else:\n",
        "      return super().sacar(valor)\n",
        "\n",
        "    return False\n",
        "\n",
        "  def __str__(self):\n",
        "    return f\"\"\"\\\n",
        "      Agência:\\t{self.agencia}\n",
        "      C/C:\\t{self.numero}\n",
        "      Titular:\\t{self.cliente.nome}\n",
        "    \"\"\""
      ],
      "metadata": {
        "id": "0PC5J6a_j3bQ"
      },
      "execution_count": 6,
      "outputs": []
    },
    {
      "cell_type": "code",
      "source": [
        "class Historico:\n",
        "  def __init__(self):\n",
        "    self._tramsacoes = []\n",
        "\n",
        "  @property\n",
        "  def transacoes(self):\n",
        "    return self._transacoes\n",
        "\n",
        "  def adicionar_transacao(self, transacao):\n",
        "    self._transacoes.append({\n",
        "        \"tipo\": transacao.__classe__.__name__,\n",
        "        \"valor\": transacao.valor,\n",
        "        \"data\": datetime.now().strftime(\"%d-%m%Y %H:%M:%s\"),\n",
        "    })"
      ],
      "metadata": {
        "id": "qZvpo4-edK2a"
      },
      "execution_count": 7,
      "outputs": []
    },
    {
      "cell_type": "code",
      "source": [
        "class Transacao(ABC):\n",
        "  @property\n",
        "  @abstractproperty\n",
        "  def valor (self):\n",
        "    pass\n",
        "\n",
        "  @abstractclassmethod\n",
        "  def registrar(self, conta):\n",
        "    pass"
      ],
      "metadata": {
        "id": "Dg1h8fR7EO2G"
      },
      "execution_count": 8,
      "outputs": []
    },
    {
      "cell_type": "code",
      "source": [
        "class Saque(Transacao):\n",
        "  def __init__(self, valor):\n",
        "    self._valor = valor\n",
        "\n",
        "  @property\n",
        "  def valor(self):\n",
        "    return self._valor\n",
        "\n",
        "  def registrar(self, conta):\n",
        "    transacao_ok = conta.sacar(self.valor)\n",
        "\n",
        "    if transacao_ok:\n",
        "      conta.historico.adicionar_transacao(self)"
      ],
      "metadata": {
        "id": "YaMZXAxBFDUg"
      },
      "execution_count": 9,
      "outputs": []
    },
    {
      "cell_type": "code",
      "source": [
        "class Deposito(Transacao):\n",
        "  def __init__(self, valor):\n",
        "    self._valor = valor\n",
        "\n",
        "  @property\n",
        "  def valor(self):\n",
        "    return self._valor\n",
        "\n",
        "  def registrar(self, conta):\n",
        "    transacao_ok = conta.depositar(self.valor)\n",
        "\n",
        "    if transacao_ok:\n",
        "      conta.historico.adicionar_transacao(self)"
      ],
      "metadata": {
        "id": "jqGkt2IMGlBO"
      },
      "execution_count": 10,
      "outputs": []
    },
    {
      "cell_type": "code",
      "source": [
        "def menu():\n",
        "  menu = input(\"\\n### [1] Depósito | [2] Saque | [3] Extrato | [4] Cadastrar usuario | [5] Criar conta |\\\n",
        "  [6] Listar Contas [0] Sair ### 0\\n\\n Informe a opção desejada!\\n\\n\")\n",
        "  return menu\n",
        "\n",
        "def filtrar_cliente(cpf, clientes):\n",
        "    clientes_filtrados = [cliente for cliente in clientes if cliente.cpf == cpf]\n",
        "    return clientes_filtrados[0] if clientes_filtrados else None\n",
        "\n",
        "\n",
        "def recuperar_conta_cliente(cliente):\n",
        "    if not cliente.contas:\n",
        "        print(\"\\n Cliente não possui conta!\")\n",
        "        return\n",
        "\n",
        "    # FIXME: não permite cliente escolher a conta\n",
        "    return cliente.contas[0]\n",
        "\n",
        "\n",
        "def depositar(clientes):\n",
        "    cpf = input(\"Informe o CPF do cliente: \")\n",
        "    cliente = filtrar_cliente(cpf, clientes)\n",
        "\n",
        "    if not cliente:\n",
        "        print(\"\\n Cliente não encontrado!\")\n",
        "        return\n",
        "\n",
        "    valor = float(input(\"Informe o valor a ser depositado: \"))\n",
        "    transacao = Deposito(valor)\n",
        "\n",
        "    conta = recuperar_conta_cliente(cliente)\n",
        "    if not conta:\n",
        "        return\n",
        "\n",
        "    cliente.realizar_transacao(conta, transacao)\n",
        "\n",
        "\n",
        "def sacar(clientes):\n",
        "    cpf = input(\"Informe o CPF do cliente: \")\n",
        "    cliente = filtrar_cliente(cpf, clientes)\n",
        "\n",
        "    if not cliente:\n",
        "        print(\"\\nCliente não encontrado!\")\n",
        "        return\n",
        "\n",
        "    valor = float(input(\"Informe o valor a ser sacado: \"))\n",
        "    transacao = Saque(valor)\n",
        "\n",
        "    conta = recuperar_conta_cliente(cliente)\n",
        "    if not conta:\n",
        "        return\n",
        "\n",
        "    cliente.realizar_transacao(conta, transacao)\n",
        "\n",
        "\n",
        "def mostrar_extrato(clientes):\n",
        "    cpf = input(\"Informe o CPF do cliente: \")\n",
        "    cliente = filtrar_cliente(cpf, clientes)\n",
        "\n",
        "    if not cliente:\n",
        "        print(\"\\n Cliente não encontrado!\")\n",
        "        return\n",
        "\n",
        "    conta = recuperar_conta_cliente(cliente)\n",
        "    if not conta:\n",
        "        return\n",
        "\n",
        "    print(\"\\n================ EXTRATO ================\")\n",
        "    transacoes = conta.historico.transacoes\n",
        "\n",
        "    extrato = \"\"\n",
        "    if not transacoes:\n",
        "        extrato = \"Não foram realizadas movimentações.\"\n",
        "    else:\n",
        "        for transacao in transacoes:\n",
        "            extrato += f\"\\n{transacao['tipo']}:\\n\\tR$ {transacao['valor']:.2f}\"\n",
        "\n",
        "    print(extrato)\n",
        "    print(f\"\\nSaldo:\\n\\tR$ {conta.saldo:.2f}\")\n",
        "    print(\"==========================================\")\n",
        "\n",
        "\n",
        "def criar_cliente(clientes):\n",
        "    cpf = input(\"Informe o CPF (somente número): \")\n",
        "    cliente = filtrar_cliente(cpf, clientes)\n",
        "\n",
        "    if cliente:\n",
        "        print(\"\\nCPF Já cadastrado\")\n",
        "        return\n",
        "\n",
        "    nome = input(\"Informe o nome completo: \")\n",
        "    data_nascimento = input(\"Informe a data de nascimento (dd-mm-aaaa): \")\n",
        "    endereco = input(\"Informe o endereço (logradouro, nro - bairro - cidade/sigla estado): \")\n",
        "\n",
        "    cliente = PessoaFisica(nome=nome, data_nascimento=data_nascimento, cpf=cpf, endereco=endereco)\n",
        "\n",
        "    clientes.append(cliente)\n",
        "\n",
        "    print(\"\\n=== Cliente criado com sucesso! ===\")\n",
        "\n",
        "\n",
        "def criar_conta(numero_conta, clientes, contas):\n",
        "    cpf = input(\"Informe o CPF do cliente: \")\n",
        "    cliente = filtrar_cliente(cpf, clientes)\n",
        "\n",
        "    if not cliente:\n",
        "        print(\"\\nCliente não encontrado, fluxo de criação de conta encerrado!\")\n",
        "        return\n",
        "\n",
        "    conta = ContaCorrente.nova_conta(cliente=cliente, numero=numero_conta)\n",
        "    contas.append(conta)\n",
        "    cliente.contas.append(conta)\n",
        "\n",
        "    print(\"\\n=== Conta criada com sucesso! ===\")\n",
        "\n",
        "\n",
        "def listar_contas(contas):\n",
        "    for conta in contas:\n",
        "        print(\"=\" * 100)"
      ],
      "metadata": {
        "id": "k3gQmR1wLIXk"
      },
      "execution_count": 11,
      "outputs": []
    },
    {
      "cell_type": "code",
      "source": [
        "def main():\n",
        "\n",
        "  clientes = []\n",
        "  contas = []\n",
        "\n",
        "  while True:\n",
        "\n",
        "    opcao = menu()\n",
        "\n",
        "    if opcao == \"1\":\n",
        "      depositar(clientes)\n",
        "\n",
        "    elif opcao == \"2\":\n",
        "      sacar(clientes)\n",
        "\n",
        "    elif opcao == \"3\":\n",
        "      mostrar_extrato(clientes)\n",
        "\n",
        "    elif opcao == \"4\":\n",
        "      criar_cliente(clientes)\n",
        "\n",
        "    elif opcao == \"5\":\n",
        "      numero_conta = len(contas) + 1\n",
        "      criar_conta(numero_conta, clientes, contas)\n",
        "\n",
        "    elif opcao == \"6\":\n",
        "      listar_contas(contas)\n",
        "\n",
        "    elif opcao == \"0\":\n",
        "      break\n",
        "\n",
        "    else:\n",
        "      print(\"\\nOperação invalida. Selecione novamente a opção desejada!\")\n"
      ],
      "metadata": {
        "id": "Lcc0qnUuIZvY"
      },
      "execution_count": 12,
      "outputs": []
    },
    {
      "cell_type": "code",
      "source": [
        "main()"
      ],
      "metadata": {
        "colab": {
          "base_uri": "https://localhost:8080/"
        },
        "id": "duhYytw-NnLw",
        "outputId": "2193c5fb-9505-40a9-e28b-8cbd02fa8550"
      },
      "execution_count": 13,
      "outputs": [
        {
          "name": "stdout",
          "output_type": "stream",
          "text": [
            "\n",
            "### [1] Depósito | [2] Saque | [3] Extrato | [4] Cadastrar usuario | [5] Criar conta |  [6] Listar Contas [0] Sair ### 0\n",
            "\n",
            " Informe a opção desejada!\n",
            "\n",
            "150\n",
            "\n",
            "Operação invalida. Selecione novamente a opção desejada!\n",
            "\n",
            "### [1] Depósito | [2] Saque | [3] Extrato | [4] Cadastrar usuario | [5] Criar conta |  [6] Listar Contas [0] Sair ### 0\n",
            "\n",
            " Informe a opção desejada!\n",
            "\n",
            "1\n",
            "Informe o CPF do cliente: 06314748623\n",
            "\n",
            " Cliente não encontrado!\n",
            "\n",
            "### [1] Depósito | [2] Saque | [3] Extrato | [4] Cadastrar usuario | [5] Criar conta |  [6] Listar Contas [0] Sair ### 0\n",
            "\n",
            " Informe a opção desejada!\n",
            "\n",
            "0\n"
          ]
        }
      ]
    }
  ]
}