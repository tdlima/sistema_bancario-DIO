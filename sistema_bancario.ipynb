{
  "nbformat": 4,
  "nbformat_minor": 0,
  "metadata": {
    "colab": {
      "provenance": [],
      "authorship_tag": "ABX9TyPf8yEI6G/PTX2yLJ1N3Ew4",
      "include_colab_link": true
    },
    "kernelspec": {
      "name": "python3",
      "display_name": "Python 3"
    },
    "language_info": {
      "name": "python"
    }
  },
  "cells": [
    {
      "cell_type": "markdown",
      "metadata": {
        "id": "view-in-github",
        "colab_type": "text"
      },
      "source": [
        "<a href=\"https://colab.research.google.com/github/tdlima/sistema_bancario-DIO/blob/main/sistema_bancario.ipynb\" target=\"_parent\"><img src=\"https://colab.research.google.com/assets/colab-badge.svg\" alt=\"Open In Colab\"/></a>"
      ]
    },
    {
      "cell_type": "code",
      "execution_count": null,
      "metadata": {
        "id": "4LLhML7v7oYN"
      },
      "outputs": [],
      "source": [
        "menu = \"\\n### [1] Depósito | [2] Saque | [3] Extrato | [0] Sair ### 0\\n\\n Informe a opção desejada!\\n\\n\"\n",
        "\n",
        "saldo = 0\n",
        "limite = 500\n",
        "extrato = \"\"\n",
        "numero_saques = 0\n",
        "LIMITE_SAQUES = 3\n",
        "\n",
        "while True:\n",
        " \n",
        "  opcao = input(menu)\n",
        "  \n",
        "  \n",
        "  if opcao == \"1\":\n",
        "    valor = float(input(\"\\nValor a ser depositado: \"))\n",
        "\n",
        "    if valor > 0:\n",
        "      saldo += valor\n",
        "      extrato += f\"Depósito: R${valor:.2f}\\n\"\n",
        "    \n",
        "    else:\n",
        "      print(\"\\nFalha na operação! Valor informado é invalido.\\n\")\n",
        "  \n",
        "  elif opcao == \"2\":\n",
        "    valor = float(input(\"\\nValor a ser sacado: \"))\n",
        "\n",
        "    saldo_excedido = valor > saldo\n",
        "    limite_excedido = valor > limite\n",
        "    saque_excedido = numero_saques >= LIMITE_SAQUES\n",
        "\n",
        "    if saldo_excedido:\n",
        "      print(\"\\nSaldo insuficiente!\\n\")\n",
        "\n",
        "    elif limite_excedido:\n",
        "      print(\"\\nFalha na operação! Limite diario excedido.\\n\")\n",
        "\n",
        "    elif saque_excedido:\n",
        "       print(\"\\nFalha na operação! Limite de saque excedido.\\n\")\n",
        "\n",
        "    elif valor > 0:\n",
        "      saldo -= valor\n",
        "      extrato += f\"Saque: R${valor:.2f}\\n\"\n",
        "      numero_saques += 1\n",
        "\n",
        "    else:\n",
        "      print(\"\\nFalha na operação! Valor informado é invalido.\\n\")\n",
        "  \n",
        "  elif opcao == \"3\":\n",
        "    print(\"\\n========== Extrato ==========\\n\")\n",
        "    print(\"Não foram realizadas movimentações.\" if not extrato else extrato)\n",
        "    print(f\"\\nSaldo: R${saldo:.2f}\")\n",
        "    print(\"\\n=============================\\n\")\n",
        "  \n",
        "  elif opcao == \"0\":\n",
        "    break\n",
        "\n",
        "  else:\n",
        "    print(\"\\nOperação invalida. Selecione novamente a opção desejada!\")"
      ]
    }
  ]
}